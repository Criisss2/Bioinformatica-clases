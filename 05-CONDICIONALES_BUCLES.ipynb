{
 "cells": [
  {
   "cell_type": "markdown",
   "id": "9e009697",
   "metadata": {},
   "source": [
    "###  IF, ELIF, ELSE"
   ]
  },
  {
   "cell_type": "code",
   "execution_count": 1,
   "id": "933a0413",
   "metadata": {},
   "outputs": [
    {
     "name": "stdout",
     "output_type": "stream",
     "text": [
      "It was true!\n"
     ]
    }
   ],
   "source": [
    "# Ten cuidado con las identaciones!!!!\n",
    "if True:\n",
    "        print('It was true!')"
   ]
  },
  {
   "cell_type": "code",
   "execution_count": 2,
   "id": "2ae90f74",
   "metadata": {
    "scrolled": true
   },
   "outputs": [
    {
     "name": "stdout",
     "output_type": "stream",
     "text": [
      "I will be printed in any case where x is not true\n"
     ]
    }
   ],
   "source": [
    "x = False\n",
    "\n",
    "if x:\n",
    "        print('x was True!')\n",
    "else:\n",
    "        print('I will be printed in any case where x is not true')"
   ]
  },
  {
   "cell_type": "code",
   "execution_count": 3,
   "id": "eeff67ea",
   "metadata": {},
   "outputs": [
    {
     "name": "stdout",
     "output_type": "stream",
     "text": [
      "Welcome to the bank!\n"
     ]
    }
   ],
   "source": [
    "loc = 'Bank'\n",
    "\n",
    "if loc == 'Auto Shop':\n",
    "    print('Welcome to the Auto Shop!')\n",
    "elif loc == 'Bank':\n",
    "    print('Welcome to the bank!')\n",
    "else:\n",
    "    print('Where are you?')"
   ]
  },
  {
   "cell_type": "code",
   "execution_count": 4,
   "id": "9578d0b2",
   "metadata": {
    "scrolled": true
   },
   "outputs": [
    {
     "name": "stdout",
     "output_type": "stream",
     "text": [
      "Welcome Sammy!\n"
     ]
    }
   ],
   "source": [
    "person = 'Sammy'\n",
    "\n",
    "if person == 'Sammy':\n",
    "    print('Welcome Sammy!')\n",
    "else:\n",
    "    print(\"Welcome, what's your name?\")"
   ]
  },
  {
   "cell_type": "code",
   "execution_count": 5,
   "id": "7328736a",
   "metadata": {
    "scrolled": true
   },
   "outputs": [
    {
     "name": "stdout",
     "output_type": "stream",
     "text": [
      "Welcome George!\n"
     ]
    }
   ],
   "source": [
    "person = 'George'\n",
    "\n",
    "if person == 'Sammy':\n",
    "    print('Welcome Sammy!')\n",
    "elif person =='George':\n",
    "    print('Welcome George!')\n",
    "else:\n",
    "    print(\"Welcome, what's your name?\")"
   ]
  },
  {
   "cell_type": "markdown",
   "id": "44a9c158",
   "metadata": {},
   "source": [
    "### FOR LOOPS"
   ]
  },
  {
   "cell_type": "code",
   "execution_count": 6,
   "id": "76c4dab2",
   "metadata": {
    "scrolled": true
   },
   "outputs": [
    {
     "name": "stdout",
     "output_type": "stream",
     "text": [
      "1\n",
      "2\n",
      "3\n",
      "4\n",
      "5\n",
      "6\n",
      "7\n",
      "8\n",
      "9\n",
      "10\n"
     ]
    }
   ],
   "source": [
    "list1 = [1,2,3,4,5,6,7,8,9,10]\n",
    "for num in list1:\n",
    "    print(num)"
   ]
  },
  {
   "cell_type": "code",
   "execution_count": 7,
   "id": "8980618d",
   "metadata": {
    "scrolled": true
   },
   "outputs": [
    {
     "name": "stdout",
     "output_type": "stream",
     "text": [
      "2\n",
      "4\n",
      "6\n",
      "8\n",
      "10\n"
     ]
    }
   ],
   "source": [
    "# Solo ponemos los pares\n",
    "for num in list1:\n",
    "    if num % 2 == 0:\n",
    "        print(num)"
   ]
  },
  {
   "cell_type": "code",
   "execution_count": 8,
   "id": "2e69b73d",
   "metadata": {},
   "outputs": [
    {
     "name": "stdout",
     "output_type": "stream",
     "text": [
      "Odd number\n",
      "2\n",
      "Odd number\n",
      "4\n",
      "Odd number\n",
      "6\n",
      "Odd number\n",
      "8\n",
      "Odd number\n",
      "10\n"
     ]
    }
   ],
   "source": [
    "for num in list1:\n",
    "    if num % 2 == 0:\n",
    "        print(num)\n",
    "    else:\n",
    "        print('Odd number')"
   ]
  },
  {
   "cell_type": "code",
   "execution_count": 9,
   "id": "2cacced6",
   "metadata": {
    "scrolled": true
   },
   "outputs": [
    {
     "name": "stdout",
     "output_type": "stream",
     "text": [
      "55\n"
     ]
    }
   ],
   "source": [
    "# Este bucle suma los elmentos de la lista\n",
    "# Comienza la suma en 0\n",
    "list_sum = 0 \n",
    "\n",
    "for num in list1:\n",
    "    list_sum = list_sum + num\n",
    "\n",
    "print(list_sum)"
   ]
  },
  {
   "cell_type": "code",
   "execution_count": 10,
   "id": "a3a98420",
   "metadata": {},
   "outputs": [
    {
     "name": "stdout",
     "output_type": "stream",
     "text": [
      "55\n"
     ]
    }
   ],
   "source": [
    "# Una variación\n",
    "list_sum = 0 \n",
    "\n",
    "for num in list1:\n",
    "    list_sum += num\n",
    "\n",
    "print(list_sum)"
   ]
  },
  {
   "cell_type": "code",
   "execution_count": 11,
   "id": "40dcacc4",
   "metadata": {},
   "outputs": [
    {
     "name": "stdout",
     "output_type": "stream",
     "text": [
      "T\n",
      "h\n",
      "i\n",
      "s\n",
      " \n",
      "i\n",
      "s\n",
      " \n",
      "a\n",
      " \n",
      "s\n",
      "t\n",
      "r\n",
      "i\n",
      "n\n",
      "g\n",
      ".\n"
     ]
    }
   ],
   "source": [
    "# También podemos iterar strings\n",
    "for letter in 'This is a string.':\n",
    "    print(letter)"
   ]
  },
  {
   "cell_type": "code",
   "execution_count": 12,
   "id": "5c51317e",
   "metadata": {},
   "outputs": [
    {
     "name": "stdout",
     "output_type": "stream",
     "text": [
      "1\n",
      "2\n",
      "3\n",
      "4\n",
      "5\n"
     ]
    }
   ],
   "source": [
    "# También iteramos tuplas\n",
    "tup = (1,2,3,4,5)\n",
    "\n",
    "for t in tup:\n",
    "    print(t)"
   ]
  },
  {
   "cell_type": "code",
   "execution_count": 13,
   "id": "d9ea64bc",
   "metadata": {},
   "outputs": [
    {
     "name": "stdout",
     "output_type": "stream",
     "text": [
      "(2, 4)\n",
      "(6, 8)\n",
      "(10, 12)\n"
     ]
    }
   ],
   "source": [
    "# ¿Y si tenemos tuplas dentro de listas?\n",
    "list2 = [(2,4),(6,8),(10,12)]\n",
    "for tup in list2:\n",
    "    print(tup)"
   ]
  },
  {
   "cell_type": "code",
   "execution_count": null,
   "id": "eea3fc08",
   "metadata": {},
   "outputs": [],
   "source": [
    "# Aquí desglosamos cada tupla\n",
    "for (t1,t2) in list2:\n",
    "    print(t1)"
   ]
  },
  {
   "cell_type": "code",
   "execution_count": null,
   "id": "f2796ecf",
   "metadata": {
    "scrolled": true
   },
   "outputs": [],
   "source": [
    "# Ahora vamos a por los diccionarios\n",
    "d = {'k1':1,'k2':2,'k3':3}\n",
    "for item in d:\n",
    "    print(item)"
   ]
  },
  {
   "cell_type": "code",
   "execution_count": null,
   "id": "6c4f4196",
   "metadata": {},
   "outputs": [],
   "source": [
    "# Fíjate que en el anterior solamente nos muestra las keys, pero nosotros también queremos ver los valores\n",
    "for k,i in d.items():\n",
    "        print(k)\n",
    "        print(i)"
   ]
  },
  {
   "cell_type": "code",
   "execution_count": null,
   "id": "cd237b8d",
   "metadata": {},
   "outputs": [],
   "source": [
    "# Como dato curioso, podemos obtener una lista de las keys o de los items de esta forma\n",
    "list(d.keys())"
   ]
  },
  {
   "cell_type": "code",
   "execution_count": null,
   "id": "e727b98f",
   "metadata": {},
   "outputs": [],
   "source": [
    "# También podemos ordenar los valores del diccionario!!!! Pero no dentro del diccionario, si no fuera de él.\n",
    "# Recuerda que los diccionarios son desordenados en sí mismos de forma arbitraria\n",
    "sorted(d.values())"
   ]
  },
  {
   "cell_type": "markdown",
   "id": "422c283b",
   "metadata": {},
   "source": [
    "### WHILE LOOPS"
   ]
  },
  {
   "cell_type": "code",
   "execution_count": 14,
   "id": "29508f8b",
   "metadata": {
    "scrolled": true
   },
   "outputs": [
    {
     "name": "stdout",
     "output_type": "stream",
     "text": [
      "x is currently:  0\n",
      " x is still less than 10, adding 1 to x\n",
      "x is currently:  1\n",
      " x is still less than 10, adding 1 to x\n",
      "x is currently:  2\n",
      " x is still less than 10, adding 1 to x\n",
      "x is currently:  3\n",
      " x is still less than 10, adding 1 to x\n",
      "x is currently:  4\n",
      " x is still less than 10, adding 1 to x\n",
      "x is currently:  5\n",
      " x is still less than 10, adding 1 to x\n",
      "x is currently:  6\n",
      " x is still less than 10, adding 1 to x\n",
      "x is currently:  7\n",
      " x is still less than 10, adding 1 to x\n",
      "x is currently:  8\n",
      " x is still less than 10, adding 1 to x\n",
      "x is currently:  9\n",
      " x is still less than 10, adding 1 to x\n"
     ]
    }
   ],
   "source": [
    "x = 0\n",
    "\n",
    "while x < 10:\n",
    "    print('x is currently: ',x)\n",
    "    print(' x is still less than 10, adding 1 to x')\n",
    "    x+=1"
   ]
  },
  {
   "cell_type": "code",
   "execution_count": null,
   "id": "a1f59c70",
   "metadata": {
    "scrolled": true
   },
   "outputs": [],
   "source": [
    "x = 0\n",
    "\n",
    "while x < 10:\n",
    "    print('x is currently: ',x)\n",
    "    print(' x is still less than 10, adding 1 to x')\n",
    "    x+=1\n",
    "    \n",
    "else:\n",
    "    print('All Done!')"
   ]
  },
  {
   "cell_type": "markdown",
   "id": "57b1f1b4",
   "metadata": {},
   "source": [
    "### BREAK, CONTINUE, PASS"
   ]
  },
  {
   "cell_type": "code",
   "execution_count": null,
   "id": "0181abc0",
   "metadata": {},
   "outputs": [],
   "source": [
    "x = 0\n",
    "\n",
    "while x < 10:\n",
    "    print('x is currently: ',x)\n",
    "    print(' x is still less than 10, adding 1 to x')\n",
    "    x+=1\n",
    "    if x==3:\n",
    "        print('x==3')\n",
    "    else:\n",
    "        print('continuing...')\n",
    "        continue"
   ]
  },
  {
   "cell_type": "code",
   "execution_count": null,
   "id": "bb916abb",
   "metadata": {},
   "outputs": [],
   "source": [
    "x = 0\n",
    "\n",
    "while x < 10:\n",
    "    print('x is currently: ',x)\n",
    "    print(' x is still less than 10, adding 1 to x')\n",
    "    x+=1\n",
    "    if x==3:\n",
    "        print('Breaking because x==3')\n",
    "        break\n",
    "    else:\n",
    "        print('continuing...')\n",
    "        continue"
   ]
  },
  {
   "cell_type": "code",
   "execution_count": null,
   "id": "c240e84c",
   "metadata": {},
   "outputs": [],
   "source": [
    "# ¿Quieres petar tu ordenador? Corre esto. Para salir de aquí tendrás que pulsar en Kernel y restart. \n",
    "# Ctrl(Cmd)+C o Esc suele funcionar en la consola\n",
    "#while True:\n",
    "#    print(\"I'm stuck in an infinite loop!\")"
   ]
  },
  {
   "cell_type": "markdown",
   "id": "693b98ef",
   "metadata": {},
   "source": [
    "### Range"
   ]
  },
  {
   "cell_type": "code",
   "execution_count": null,
   "id": "fa5e431d",
   "metadata": {},
   "outputs": [],
   "source": [
    "# Range() tiene tres argumentos, el inicio, el final y el paso. Fíjate en los índices del final\n",
    "list(range(0,11))"
   ]
  },
  {
   "cell_type": "code",
   "execution_count": null,
   "id": "fd654932",
   "metadata": {},
   "outputs": [],
   "source": [
    "list(range(2,10))"
   ]
  },
  {
   "cell_type": "code",
   "execution_count": null,
   "id": "04ef3a8e",
   "metadata": {},
   "outputs": [],
   "source": [
    "list(range(0,101,10))"
   ]
  },
  {
   "cell_type": "markdown",
   "id": "c54ba192",
   "metadata": {},
   "source": [
    "### Enumerate"
   ]
  },
  {
   "cell_type": "code",
   "execution_count": null,
   "id": "ca413708",
   "metadata": {},
   "outputs": [],
   "source": [
    "index_count = 0\n",
    "\n",
    "for letter in 'abcde':\n",
    "    print(\"At index {} the letter is {}\".format(index_count,letter))\n",
    "    index_count += 1"
   ]
  },
  {
   "cell_type": "code",
   "execution_count": null,
   "id": "f7ce453d",
   "metadata": {},
   "outputs": [],
   "source": [
    "for i,letter in enumerate('abcde'):\n",
    "    print(\"At index {} the letter is {}\".format(i,letter))"
   ]
  },
  {
   "cell_type": "markdown",
   "id": "299d6710",
   "metadata": {},
   "source": [
    "### In"
   ]
  },
  {
   "cell_type": "code",
   "execution_count": null,
   "id": "14b678dd",
   "metadata": {},
   "outputs": [],
   "source": [
    "'x' in ['x','y','z']"
   ]
  },
  {
   "cell_type": "code",
   "execution_count": null,
   "id": "ba5ae064",
   "metadata": {},
   "outputs": [],
   "source": [
    "'x' in [1,2,3]"
   ]
  },
  {
   "cell_type": "markdown",
   "id": "e586cccf",
   "metadata": {},
   "source": [
    "### Not in"
   ]
  },
  {
   "cell_type": "code",
   "execution_count": null,
   "id": "238a292d",
   "metadata": {
    "scrolled": true
   },
   "outputs": [],
   "source": [
    "'x' not in ['x','y','z']"
   ]
  },
  {
   "cell_type": "code",
   "execution_count": null,
   "id": "67d430a6",
   "metadata": {},
   "outputs": [],
   "source": [
    "'x' not in [1,2,3]"
   ]
  },
  {
   "cell_type": "markdown",
   "id": "c4f38285",
   "metadata": {},
   "source": [
    "### Min, max"
   ]
  },
  {
   "cell_type": "code",
   "execution_count": null,
   "id": "e533e97a",
   "metadata": {},
   "outputs": [],
   "source": [
    "mylist = [10,20,30,40,100]\n",
    "min(mylist)"
   ]
  },
  {
   "cell_type": "code",
   "execution_count": null,
   "id": "76651fae",
   "metadata": {},
   "outputs": [],
   "source": [
    "max(mylist)"
   ]
  },
  {
   "cell_type": "markdown",
   "id": "ffda0722",
   "metadata": {},
   "source": [
    "### Random"
   ]
  },
  {
   "cell_type": "code",
   "execution_count": null,
   "id": "a87e5cc6",
   "metadata": {},
   "outputs": [],
   "source": [
    "# Aquí vamos a importar shuffle que viene con la librería random. \n",
    "# Digamos que sirve para descolocar una lista\n",
    "from random import shuffle\n",
    "shuffle(mylist)\n",
    "mylist"
   ]
  },
  {
   "cell_type": "code",
   "execution_count": null,
   "id": "0e74ce27",
   "metadata": {},
   "outputs": [],
   "source": [
    "# Otra función es randint que nos genera un número entero aleatorio entre a y b, incluyendo tanto a a como a b\n",
    "from random import randint\n",
    "randint(0,100)"
   ]
  },
  {
   "cell_type": "markdown",
   "id": "68e2315f",
   "metadata": {},
   "source": [
    "### Input"
   ]
  },
  {
   "cell_type": "code",
   "execution_count": null,
   "id": "e9a1b684",
   "metadata": {},
   "outputs": [],
   "source": [
    "input('Pon algo aquí: ')"
   ]
  },
  {
   "cell_type": "markdown",
   "id": "70a24624",
   "metadata": {},
   "source": [
    "# EJERCICIOS"
   ]
  },
  {
   "cell_type": "markdown",
   "id": "ba7edaf2",
   "metadata": {},
   "source": [
    "#### 1.- Emplea for, split() e if para crear un código que imprima todas las palabras que empiecen por 's'."
   ]
  },
  {
   "cell_type": "code",
   "execution_count": 15,
   "id": "f0683703",
   "metadata": {},
   "outputs": [],
   "source": [
    "st = 'Print only the words that start with s in this sentence'"
   ]
  },
  {
   "cell_type": "code",
   "execution_count": 16,
   "id": "ac5868a9",
   "metadata": {},
   "outputs": [
    {
     "name": "stdout",
     "output_type": "stream",
     "text": [
      "start\n",
      "s\n",
      "sentence\n"
     ]
    }
   ],
   "source": [
    "for palabra in st.split():\n",
    "    if palabra[0] == 's':\n",
    "        print(palabra)"
   ]
  },
  {
   "cell_type": "markdown",
   "id": "a51e8a31",
   "metadata": {},
   "source": [
    "#### 2.- Usa range() para hacer una lista con todos los números pares del 0 al 10"
   ]
  },
  {
   "cell_type": "code",
   "execution_count": 17,
   "id": "f7ff1cb8",
   "metadata": {},
   "outputs": [
    {
     "data": {
      "text/plain": [
       "[0, 2, 4, 6, 8, 10]"
      ]
     },
     "execution_count": 17,
     "metadata": {},
     "output_type": "execute_result"
    }
   ],
   "source": [
    "list(range(0,11,2))"
   ]
  },
  {
   "cell_type": "markdown",
   "id": "5a18ad79",
   "metadata": {},
   "source": [
    "#### 3.- Recorre la siguiente string e imprime  solo las palabras que tengan una longitud par"
   ]
  },
  {
   "cell_type": "code",
   "execution_count": 18,
   "id": "45977e3a",
   "metadata": {},
   "outputs": [],
   "source": [
    "st = 'Print every word in this sentence that has an even number of letters'"
   ]
  },
  {
   "cell_type": "code",
   "execution_count": 19,
   "id": "fde5d37d",
   "metadata": {},
   "outputs": [
    {
     "name": "stdout",
     "output_type": "stream",
     "text": [
      "word tiene longitud par\n",
      "in tiene longitud par\n",
      "this tiene longitud par\n",
      "sentence tiene longitud par\n",
      "that tiene longitud par\n",
      "an tiene longitud par\n",
      "even tiene longitud par\n",
      "number tiene longitud par\n",
      "of tiene longitud par\n"
     ]
    }
   ],
   "source": [
    "for palabra in st.split():\n",
    "    if len(palabra)%2 == 0:\n",
    "        print(f'{palabra} tiene longitud par')"
   ]
  },
  {
   "cell_type": "markdown",
   "id": "d9c76b41",
   "metadata": {},
   "source": [
    "#### 4.- Escribe un pequeño algoritmo que imprima los enteros del 1 al 100. \n",
    "#### Para múltiplos de 3 escribe 'Fizz' en lugar del número\n",
    "#### Para múltiplos de 5 escribe 'Buzz'\n",
    "#### Para los que sean múltiplos de 3 y de 5 escribe 'FizzBuzz'"
   ]
  },
  {
   "cell_type": "code",
   "execution_count": 20,
   "id": "dd4eb2b7",
   "metadata": {},
   "outputs": [
    {
     "name": "stdout",
     "output_type": "stream",
     "text": [
      "FizzBuzz\n",
      "1\n",
      "2\n",
      "Fizz\n",
      "4\n",
      "Buzz\n",
      "Fizz\n",
      "7\n",
      "8\n",
      "Fizz\n",
      "Buzz\n",
      "11\n",
      "Fizz\n",
      "13\n",
      "14\n",
      "FizzBuzz\n",
      "16\n",
      "17\n",
      "Fizz\n",
      "19\n",
      "Buzz\n",
      "Fizz\n",
      "22\n",
      "23\n",
      "Fizz\n",
      "Buzz\n",
      "26\n",
      "Fizz\n",
      "28\n",
      "29\n",
      "FizzBuzz\n",
      "31\n",
      "32\n",
      "Fizz\n",
      "34\n",
      "Buzz\n",
      "Fizz\n",
      "37\n",
      "38\n",
      "Fizz\n",
      "Buzz\n",
      "41\n",
      "Fizz\n",
      "43\n",
      "44\n",
      "FizzBuzz\n",
      "46\n",
      "47\n",
      "Fizz\n",
      "49\n",
      "Buzz\n",
      "Fizz\n",
      "52\n",
      "53\n",
      "Fizz\n",
      "Buzz\n",
      "56\n",
      "Fizz\n",
      "58\n",
      "59\n",
      "FizzBuzz\n",
      "61\n",
      "62\n",
      "Fizz\n",
      "64\n",
      "Buzz\n",
      "Fizz\n",
      "67\n",
      "68\n",
      "Fizz\n",
      "Buzz\n",
      "71\n",
      "Fizz\n",
      "73\n",
      "74\n",
      "FizzBuzz\n",
      "76\n",
      "77\n",
      "Fizz\n",
      "79\n",
      "Buzz\n",
      "Fizz\n",
      "82\n",
      "83\n",
      "Fizz\n",
      "Buzz\n",
      "86\n",
      "Fizz\n",
      "88\n",
      "89\n",
      "FizzBuzz\n",
      "91\n",
      "92\n",
      "Fizz\n",
      "94\n",
      "Buzz\n",
      "Fizz\n",
      "97\n",
      "98\n",
      "Fizz\n",
      "Buzz\n"
     ]
    }
   ],
   "source": [
    "for num in range(0,101):\n",
    "    if num%3 == 0 and num%5 == 0:\n",
    "        print(\"FizzBuzz\")\n",
    "    elif num%3==0:\n",
    "        print(\"Fizz\")\n",
    "    elif num%5==0:\n",
    "        print(\"Buzz\")\n",
    "    else:\n",
    "        print(num)"
   ]
  },
  {
   "cell_type": "code",
   "execution_count": null,
   "id": "84c4e523",
   "metadata": {},
   "outputs": [],
   "source": []
  }
 ],
 "metadata": {
  "kernelspec": {
   "display_name": "Python 3 (ipykernel)",
   "language": "python",
   "name": "python3"
  },
  "language_info": {
   "codemirror_mode": {
    "name": "ipython",
    "version": 3
   },
   "file_extension": ".py",
   "mimetype": "text/x-python",
   "name": "python",
   "nbconvert_exporter": "python",
   "pygments_lexer": "ipython3",
   "version": "3.11.4"
  }
 },
 "nbformat": 4,
 "nbformat_minor": 5
}
