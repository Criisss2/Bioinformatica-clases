{
 "cells": [
  {
   "cell_type": "markdown",
   "metadata": {},
   "source": [
    "# PRACTICA Expresiones Regulares\n",
    "\n",
    "#### Esta práctica se entrega el día 22 de Octubre a las 23:59\n",
    "#### Cuenta el 5% de la nota\n",
    "\n",
    "#### De la lista de accessions que se proporciona obtén lo siguiente:\n",
    "1. Los que tengan el número 5\n",
    "2. Los que tengan la letra 'd' o la 'e'\n",
    "3. Los que tengan las letras 'd' y 'e' en ese orden\n",
    "4. Los que tengan las letras 'd' y 'e' en ese orden con una letra cualquiera en medio\n",
    "5. Los que tengan ambas letras 'd' y 'e' en cualquier orden\n",
    "6. Los que empiezan por 'x' o por 'y'\n",
    "7. Los que empiezan por 'x' o 'y' y terminan por 'e'\n",
    "8. Los que tienen tres o más dígitos seguidos\n",
    "9. Los que terminan con 'd' seguidos de 'a' o 'r' o 'p'"
   ]
  },
  {
   "cell_type": "code",
   "execution_count": 6,
   "metadata": {},
   "outputs": [],
   "source": [
    "import re"
   ]
  },
  {
   "cell_type": "code",
   "execution_count": 7,
   "metadata": {},
   "outputs": [],
   "source": [
    "accs = ['xkn59438', 'yhdck2', 'eihd39d9', 'chdsye847', 'hedle3455', 'xjhd53e', '45da', 'de37dp']"
   ]
  },
  {
   "cell_type": "markdown",
   "metadata": {},
   "source": [
    "1. Los que tengan el número 5"
   ]
  },
  {
   "cell_type": "code",
   "execution_count": 9,
   "metadata": {},
   "outputs": [
    {
     "name": "stdout",
     "output_type": "stream",
     "text": [
      "xkn59438\n",
      "hedle3455\n",
      "xjhd53e\n",
      "45da\n"
     ]
    }
   ],
   "source": [
    "for elemento in accs:\n",
    "    if re.search(r\"5\",elemento):\n",
    "        print(elemento)\n",
    "#para cada elemento en la lista accs imprime ese elemento (el elemento es aquel que contiene un 5 según lo que hemos dicho)"
   ]
  },
  {
   "cell_type": "code",
   "execution_count": 10,
   "metadata": {
    "scrolled": true
   },
   "outputs": [
    {
     "name": "stdout",
     "output_type": "stream",
     "text": [
      "\txkn59438\n",
      "\thedle3455\n",
      "\txjhd53e\n",
      "\t45da\n"
     ]
    }
   ],
   "source": [
    "for elemento in accs:\n",
    "    if re.search(r\"5\",elemento):\n",
    "        print(\"\\t\"+elemento)\n",
    "#el \"\\t\" + sirve para añadir un espacio a la lista"
   ]
  },
  {
   "cell_type": "markdown",
   "metadata": {},
   "source": [
    "2. Los que tengan la letra 'd' o la 'e'"
   ]
  },
  {
   "cell_type": "code",
   "execution_count": 11,
   "metadata": {},
   "outputs": [
    {
     "name": "stdout",
     "output_type": "stream",
     "text": [
      "contains d or e:\n",
      "\tyhdck2\n",
      "\teihd39d9\n",
      "\tchdsye847\n",
      "\thedle3455\n",
      "\txjhd53e\n",
      "\t45da\n",
      "\tde37dp\n"
     ]
    }
   ],
   "source": [
    "print(\"contains d or e:\")\n",
    "for elemento in accs:\n",
    "    if re.search (r\"d\", elemento) or re.search(r\"e\", elemento):\n",
    "        print(\"\\t\"+elemento)"
   ]
  },
  {
   "cell_type": "code",
   "execution_count": 12,
   "metadata": {},
   "outputs": [
    {
     "name": "stdout",
     "output_type": "stream",
     "text": [
      "contains d or e:\n",
      "\tyhdck2\n",
      "\teihd39d9\n",
      "\tchdsye847\n",
      "\thedle3455\n",
      "\txjhd53e\n",
      "\t45da\n",
      "\tde37dp\n"
     ]
    }
   ],
   "source": [
    "print(\"contains d or e:\")\n",
    "for elemento in accs:\n",
    "    if re.search (r\"d|e\", elemento):\n",
    "        print(\"\\t\"+elemento)\n",
    "#otra forma de hacer lo mismo de antes, | significa o"
   ]
  },
  {
   "cell_type": "markdown",
   "metadata": {},
   "source": [
    "3. Los que tengan las letras 'd' y 'e' en ese orden"
   ]
  },
  {
   "cell_type": "code",
   "execution_count": 15,
   "metadata": {},
   "outputs": [
    {
     "name": "stdout",
     "output_type": "stream",
     "text": [
      "contains d and e in that order:\n",
      "\tchdsye847\n",
      "\thedle3455\n",
      "\txjhd53e\n",
      "\tde37dp\n"
     ]
    }
   ],
   "source": [
    "print(\"contains d and e in that order:\")\n",
    "for elemento in accs:\n",
    "    if re.search (r\"d.*e\", elemento):\n",
    "        print(\"\\t\"+elemento)\n",
    "#el . significa cualquier caracter y el * significa infinitas repeticiones"
   ]
  },
  {
   "cell_type": "markdown",
   "metadata": {},
   "source": [
    "4. Los que tengan las letras 'd' y 'e' en ese orden con una letra cualquiera en medio"
   ]
  },
  {
   "cell_type": "code",
   "execution_count": 17,
   "metadata": {
    "scrolled": true
   },
   "outputs": [
    {
     "name": "stdout",
     "output_type": "stream",
     "text": [
      "contains d and e in that order separated by a single letter:\n",
      "\thedle3455\n"
     ]
    }
   ],
   "source": [
    "print(\"contains d and e in that order separated by a single letter:\")\n",
    "for elemento in accs:\n",
    "    if re.search (r\"d.e\", elemento):\n",
    "        print(\"\\t\"+elemento)\n",
    "#poniendo el . le decimos que sea solo 1 caracter entre medias"
   ]
  },
  {
   "cell_type": "markdown",
   "metadata": {},
   "source": [
    "5. Los que tengan ambas letras 'd' y 'e' en cualquier orden"
   ]
  },
  {
   "cell_type": "code",
   "execution_count": 20,
   "metadata": {},
   "outputs": [
    {
     "name": "stdout",
     "output_type": "stream",
     "text": [
      "contains d and e:\n",
      "\teihd39d9\n",
      "\tchdsye847\n",
      "\thedle3455\n",
      "\txjhd53e\n",
      "\tde37dp\n"
     ]
    }
   ],
   "source": [
    "print(\"contains d and e:\")\n",
    "for elemento in accs:\n",
    "    if re.search (r\"d\", elemento) and re.search(r\"e\", elemento):\n",
    "        print(\"\\t\"+elemento)"
   ]
  },
  {
   "cell_type": "code",
   "execution_count": 22,
   "metadata": {},
   "outputs": [
    {
     "name": "stdout",
     "output_type": "stream",
     "text": [
      "contains d and e:\n",
      "\teihd39d9\n",
      "\tchdsye847\n",
      "\thedle3455\n",
      "\txjhd53e\n",
      "\tde37dp\n"
     ]
    }
   ],
   "source": [
    "print(\"contains d and e:\")\n",
    "for elemento in accs:\n",
    "    if re.search (r\"d.*e\", elemento) or re.search(r\"e.*d\", elemento):\n",
    "        print(\"\\t\"+elemento)\n",
    "#otra forma de hacer lo mismo"
   ]
  },
  {
   "cell_type": "markdown",
   "metadata": {},
   "source": [
    "6. Los que empiezan por 'x' o por 'y'"
   ]
  },
  {
   "cell_type": "code",
   "execution_count": 25,
   "metadata": {},
   "outputs": [
    {
     "name": "stdout",
     "output_type": "stream",
     "text": [
      "starts with either x or y:\n",
      "\txkn59438\n",
      "\tyhdck2\n",
      "\txjhd53e\n"
     ]
    }
   ],
   "source": [
    "print(\"starts with either x or y:\")\n",
    "for elemento in accs:\n",
    "    if re.search (r\"^(x|y)\", elemento):\n",
    "        print(\"\\t\"+elemento)\n",
    "# el símbolo ^ indica inicio"
   ]
  },
  {
   "cell_type": "markdown",
   "metadata": {},
   "source": [
    "7. Los que empiezan por 'x' o 'y' y terminan por 'e'"
   ]
  },
  {
   "cell_type": "code",
   "execution_count": 27,
   "metadata": {},
   "outputs": [
    {
     "name": "stdout",
     "output_type": "stream",
     "text": [
      "starts with either x or y and ends with e:\n",
      "\txjhd53e\n"
     ]
    }
   ],
   "source": [
    "print(\"starts with either x or y and ends with e:\")\n",
    "for elemento in accs:\n",
    "    if re.search (r\"^(x|y).*e$\", elemento):\n",
    "        print(\"\\t\"+elemento)\n",
    "#el $ indica el final"
   ]
  },
  {
   "cell_type": "markdown",
   "metadata": {},
   "source": [
    "8. Los que tienen tres o más dígitos seguidos"
   ]
  },
  {
   "cell_type": "code",
   "execution_count": 28,
   "metadata": {},
   "outputs": [
    {
     "name": "stdout",
     "output_type": "stream",
     "text": [
      "contains three or more numbers in a row:\n",
      "\txkn59438\n",
      "\tchdsye847\n",
      "\thedle3455\n"
     ]
    }
   ],
   "source": [
    "print(\"contains three or more numbers in a row:\")\n",
    "for elemento in accs:\n",
    "    if re.search (r\"\\d{3,}\", elemento):\n",
    "        print(\"\\t\"+elemento)\n",
    "#la \\ indica dígitos y los {} sirve para indicar el nº de repeticiones, ponemos 3 para que sean 3 repeticiones y la , con el espacio indica del 3 al infinito"
   ]
  },
  {
   "cell_type": "markdown",
   "metadata": {},
   "source": [
    "9. Los que terminan con 'd' seguidos de 'a' o 'r' o 'p'"
   ]
  },
  {
   "cell_type": "code",
   "execution_count": 29,
   "metadata": {},
   "outputs": [
    {
     "name": "stdout",
     "output_type": "stream",
     "text": [
      "starts with d folowed by either a, r or p:\n",
      "\t45da\n",
      "\tde37dp\n"
     ]
    }
   ],
   "source": [
    "print(\"starts with d folowed by either a, r or p:\")\n",
    "for elemento in accs:\n",
    "    if re.search (r\"d[arp]$\", elemento):\n",
    "        print(\"\\t\"+elemento)"
   ]
  }
 ],
 "metadata": {
  "kernelspec": {
   "display_name": "Python 3 (ipykernel)",
   "language": "python",
   "name": "python3"
  },
  "language_info": {
   "codemirror_mode": {
    "name": "ipython",
    "version": 3
   },
   "file_extension": ".py",
   "mimetype": "text/x-python",
   "name": "python",
   "nbconvert_exporter": "python",
   "pygments_lexer": "ipython3",
   "version": "3.11.4"
  }
 },
 "nbformat": 4,
 "nbformat_minor": 4
}
