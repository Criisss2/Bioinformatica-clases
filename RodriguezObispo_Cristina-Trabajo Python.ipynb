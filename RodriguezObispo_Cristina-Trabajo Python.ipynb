{
 "cells": [
  {
   "cell_type": "markdown",
   "metadata": {},
   "source": [
    "# TRABAJO DE PYTHON\n",
    "\n",
    "### Este trabajo cuenta el 30% de la nota. La entrega será el 5 de Noviembre a las 23:59.\n",
    "\n",
    "### Resuelve los siguientes ejercicios en Python sin usar expresiones regulares\n",
    "\n",
    "#### Utiliza tantas celdas de código como necesites\n",
    "\n",
    "##\n",
    "\n",
    "\n",
    "\n",
    "\n",
    "\n",
    "\n",
    "\n"
   ]
  },
  {
   "cell_type": "markdown",
   "metadata": {},
   "source": [
    "### 1.- BUSCA LA SECUENCIA COMPLEMENTARIA\n",
    "#### Devuelve la secuencia complementaria de la siguiente secuencia de ADN"
   ]
  },
  {
   "cell_type": "code",
   "execution_count": 1,
   "metadata": {},
   "outputs": [],
   "source": [
    "my_dna = \"ACTGATCGATTACGTATAGTATTTGCTATCATACATATATATCGATGCGTTCAT\""
   ]
  },
  {
   "cell_type": "code",
   "execution_count": 2,
   "metadata": {},
   "outputs": [
    {
     "name": "stdout",
     "output_type": "stream",
     "text": [
      "La cadena complementaria es: TGACTAGCTAATGCATATCATAAACGATAGTATGTATATATAGCTACGCAAGTA\n"
     ]
    }
   ],
   "source": [
    "#Vamos a guardar la cadena complementaria en una nueva función a la que yo he llamado complementaria\n",
    "complementaria = ''\n",
    "#Hacemos un bucle para sustituir cada nucleotido por su complementario, en el decimos que si tenemos por ejemplo una A en la cadena dada, en la nueva cadena le llamaremos T\n",
    "for nuc in my_dna:\n",
    "    if nuc == 'A': complementaria += 'T'\n",
    "    if nuc == 'T': complementaria += 'A'\n",
    "    if nuc == 'C': complementaria += 'G'\n",
    "    if nuc == 'G': complementaria += 'C'\n",
    "#Por último pedimos que nos muestre nuestra nueva cadena, y comprobamos efectivamente que es complementaria de la cadena dada\n",
    "print (\"La cadena complementaria es:\", complementaria)"
   ]
  },
  {
   "cell_type": "markdown",
   "metadata": {},
   "source": [
    "##\n",
    "### 2.- FRAGMENTOS DE RESTRICCION\n",
    "#### Obtén los fragmentos de restricción de EcoRI, que tiene un sitio de corte en G*AATTC (la posición de corte se indica por el *).\n",
    "#### No uses expresiones regulares. \n",
    "#### Pista: utiliza la función find()"
   ]
  },
  {
   "cell_type": "code",
   "execution_count": 3,
   "metadata": {
    "scrolled": true
   },
   "outputs": [],
   "source": [
    "my_dna = \"ACTGATCGATTACGTATAGTATTTGCTATGAATTCCATACATATATATCGATGCGTTCAT\""
   ]
  },
  {
   "cell_type": "code",
   "execution_count": 4,
   "metadata": {},
   "outputs": [
    {
     "name": "stdout",
     "output_type": "stream",
     "text": [
      "El punto de corte de EcoRI se encuentra en la posición: 30\n"
     ]
    }
   ],
   "source": [
    "#Primero voy a buscar cuantos puntos de corte hay en mi secuencia para definir el número de fragmengtos, y con esta función obtengo la posición en la que se encuentra\n",
    "ecoRI_punto_corte = my_dna.find(\"GAATTC\") + 1\n",
    "print (\"El punto de corte de EcoRI se encuentra en la posición:\",ecoRI_punto_corte)"
   ]
  },
  {
   "cell_type": "code",
   "execution_count": 5,
   "metadata": {},
   "outputs": [
    {
     "name": "stdout",
     "output_type": "stream",
     "text": [
      "Fragmento 1: ACTGATCGATTACGTATAGTATTTGCTATG\n",
      "Fragmento 2: AATTCCATACATATATATCGATGCGTTCAT\n"
     ]
    }
   ],
   "source": [
    "#Defino la secuencia del punto de corte de EcoRI\n",
    "ecoRI = \"GAATTC\"\n",
    "\n",
    "#Busco la secuencia de punto de corte y la asigno a una variable para poder trabajar con ella\n",
    "punto_corte = my_dna.find(ecoRI)\n",
    "\n",
    "#Defino mis fragmentos acotando su longitud, ya se que tenemos dos fragmentos porque hay solo 1 punto de corte\n",
    "fragmento1 = my_dna[:punto_corte + 1]\n",
    "fragmento2 = my_dna[punto_corte+1:]\n",
    "\n",
    "#Imprimimos ambos fragmentos\n",
    "print(\"Fragmento 1:\", fragmento1)\n",
    "print(\"Fragmento 2:\", fragmento2)"
   ]
  },
  {
   "cell_type": "markdown",
   "metadata": {},
   "source": [
    "##\n",
    "### 3.- ENCUENTRA LOS EXONES\n",
    "#### Encuentra los exones en la siguiente secuencia\n",
    "1. El primer exón va de la primera base a la base 63 (empieza a contar desde 0)\n",
    "2. El segundo exón va de la base 91 (contando desde 0) hasta el final\n",
    "3. Calcula el porcentaje de secuencia codificante\n",
    "4. Imprime en pantalla la secuencia original con los exones en mayúsculas y los intrones en minúsculas"
   ]
  },
  {
   "cell_type": "code",
   "execution_count": 6,
   "metadata": {},
   "outputs": [],
   "source": [
    "genomic_dna = \"ATCGATCGATCGATCGACTGACTAGTCATAGCTATGCATGTAGCTACTCGATCGATCGATCGATCGATCGATCGATCGATCGATCATGCTATCATCGATCGATATCGATGCATCGACTACTAT\""
   ]
  },
  {
   "cell_type": "code",
   "execution_count": 7,
   "metadata": {},
   "outputs": [
    {
     "name": "stdout",
     "output_type": "stream",
     "text": [
      "ATCGATCGATCGATCGACTGACTAGTCATAGCTATGCATGTAGCTACTCGATCGATCGATCGAtcgatcgatcgatcgatcgatcatgctaTCATCGATCGATATCGATGCATCGACTACTAT\n",
      "Porcetaje de secuencia codificante:77.24%\n",
      "Largo de exón 1: 63\n",
      "Largo de exón 2: 32\n",
      "Largo de la secuencia entera: 123\n"
     ]
    }
   ],
   "source": [
    "#Definimos los límites de los exones\n",
    "exon1_inicio = 0\n",
    "exon1_fin = 63\n",
    "exon2_inicio = 91\n",
    "\n",
    "#Indicamos la extensión del primer y el segundo exón, y como están en mayusculas por defecto no hace falta indicar que los queremos en mayusculas, pero sino añadisiamos un .upper() al final de cada línea\n",
    "exon_1 = genomic_dna [exon1_inicio:exon1_fin]\n",
    "exon_2 = genomic_dna [exon2_inicio:]\n",
    "\n",
    "#Determinamos la secuencia del intrón y lo ponemos en minuscula\n",
    "intron_seq = genomic_dna[len(exon_1):exon2_inicio].lower()\n",
    "\n",
    "#Para calcular más facilmente el % de secuencia codificante, definimos la seuencia codificante\n",
    "seq_codificante = exon_1 + exon_2\n",
    "\n",
    "#Calculamos el porcentaje de secuencia codificante\n",
    "porcentaje_codificante = (len(seq_codificante)/len(genomic_dna))*100\n",
    "\n",
    "#Imprimimos la secuencia de exones e intrones en mayuscular y minusculas respectivamente\n",
    "final_seq = exon_1 + intron_seq + exon_2\n",
    "print (final_seq)\n",
    "\n",
    "#Imprimimos % de secuencia codificante\n",
    "print(f\"Porcetaje de secuencia codificante:{porcentaje_codificante:.2f}%\")\n",
    "\n",
    "#Comprobamos que el largo de los exones sea el correcto:\n",
    "print (\"Largo de exón 1:\", len(exon_1))\n",
    "print (\"Largo de exón 2:\", len(exon_2))\n",
    "print (\"Largo de la secuencia entera:\", len(genomic_dna))"
   ]
  },
  {
   "cell_type": "markdown",
   "metadata": {},
   "source": [
    "##\n",
    "### 4.- ESCRIBE UN ARCHIVO FASTA\n",
    "#### Escribe un archivo FASTA que tenga las siguientes secuencias:\n",
    "1. ABC123 \tATCGTACGATCGATCGATCGCTAGACGTATCG\n",
    "2. DEF456 \tactgatcgacgatcgatcgatcacgact\n",
    "3. HIJ789 \tACTGAC-ACTGT--ACTGTA----CATGTG\n",
    "\n",
    "###### *Ten en cuenta que todas las secuencias deben tener solo ATGC caracteres y tienen que estar en mayúsculas\n",
    "###### Recuerda que las secuencias en FASTA empiezan por una línea \">identificador\" y la siguiente línea tiene la secuencia\n",
    "\n",
    "###### >ABC123\n",
    "###### ATCGTACGATCGATCGATCGCTAGACGTATCG\n",
    "###### >DEF456\n",
    "###### ACTGATCGACGATCGATCGATCACGACT\n",
    "###### >HIJ789\n",
    "###### ACTGACACTGTACTGTACATGTG"
   ]
  },
  {
   "cell_type": "code",
   "execution_count": 8,
   "metadata": {
    "scrolled": true
   },
   "outputs": [
    {
     "name": "stdout",
     "output_type": "stream",
     "text": [
      "ABC123\n",
      "ATCGTACGATCGATCGATCGCTAGACGTATCG\n",
      "DEF456\n",
      "actgatcgacgatcgatcgatcacgact\n",
      "HIJ789\n",
      "ACTGAC-ACTGT--ACTGTA----CATGTG\n"
     ]
    }
   ],
   "source": [
    "d={\n",
    "    'ABC123' :'ATCGTACGATCGATCGATCGCTAGACGTATCG',\n",
    "    'DEF456' : 'actgatcgacgatcgatcgatcacgact',\n",
    "    'HIJ789' : 'ACTGAC-ACTGT--ACTGTA----CATGTG'\n",
    "}\n",
    "\n",
    "for key in d.keys():\n",
    "    print(key)\n",
    "    print(d[key])"
   ]
  },
  {
   "cell_type": "code",
   "execution_count": 9,
   "metadata": {},
   "outputs": [],
   "source": [
    "d={\n",
    "    'ABC123' :'ATCGTACGATCGATCGATCGCTAGACGTATCG',\n",
    "    'DEF456' : 'actgatcgacgatcgatcgatcacgact',\n",
    "    'HIJ789' : 'ACTGAC-ACTGT--ACTGTA----CATGTG'\n",
    "}\n",
    "\n",
    "#Limpiamos y formateamos las secuencias, ponemos todo en mayusculas por defectos y eliminamos espacios y guiones\n",
    "def limpia_seq(seq):\n",
    "    seq = seq.upper().replace(\"-\", \"\")\n",
    "    return seq\n",
    "\n",
    "#Creamos el archivo FASTA\n",
    "with open (\"seq.fasta\", \"w\") as file:\n",
    "    for key in d.keys():\n",
    "        identifier = \">\" + key\n",
    "        sequence = limpia_seq(d[key])\n",
    "        file.write(f\"{identifier}\\n{sequence}\\n\")"
   ]
  },
  {
   "cell_type": "markdown",
   "metadata": {},
   "source": [
    "##\n",
    "### 5.- ELIMINA ADAPTADORES\n",
    "#### El archivo input.txt tiene unas secuencias de ADN, una por línea. \n",
    "#### Todas las secuencias empiezan con el mismo adaptador que llega hasta la base 14. Escribe un programa que:\n",
    "1. Remueva el adaptador de la secuencia y escriba la secuencia limpia en un archivo\n",
    "2. Imprima en pantalla la longitud de cada secuencia limpia"
   ]
  },
  {
   "cell_type": "code",
   "execution_count": 10,
   "metadata": {},
   "outputs": [
    {
     "name": "stdout",
     "output_type": "stream",
     "text": [
      "Longitud de secuencia limpia: 42\n",
      "Longitud de secuencia limpia: 37\n",
      "Longitud de secuencia limpia: 48\n",
      "Longitud de secuencia limpia: 33\n",
      "Longitud de secuencia limpia: 47\n"
     ]
    }
   ],
   "source": [
    "#Nombramos el input y el output\n",
    "input_file = \"input.txt\"\n",
    "output_file = \"seq_final.txt\"\n",
    "\n",
    "#Hacemos una lista para almacenar las secuencias limpias\n",
    "seq_final = []\n",
    "\n",
    "#Eliminamos el adaptador\n",
    "def remover_adaptador (sequence):\n",
    "    return sequence[14:]\n",
    "\n",
    "#Abrimos el input en modo lectura para no modificar el archivo original, y leemos las líneas\n",
    "with open (input_file, \"r\") as file:\n",
    "    lines = file.readlines()\n",
    "    \n",
    "#Procesamos cada línea del archivo y almacenamos las secuencias ya limpias en el nuevo docuemnto\n",
    "for line in lines:\n",
    "    seq = line.strip() \n",
    "    seq_limpia = remover_adaptador (seq)\n",
    "    seq_final.append (seq_limpia)\n",
    "    \n",
    "#Abrimos el output en modo escritura y ponemos ahi las secuencias limpias\n",
    "with open (output_file, \"w\") as out_file:\n",
    "    for seq in seq_final:\n",
    "        out_file.write (seq + \"\\n\")\n",
    "        \n",
    "#Imprimimos la longitud de cada secuencia\n",
    "for seq in seq_final:\n",
    "    print (f\"Longitud de secuencia limpia: {len(seq)}\")"
   ]
  },
  {
   "cell_type": "markdown",
   "metadata": {},
   "source": [
    "##\n",
    "### 6.- PORCENTAJE DE AMINO ACIDOS\n",
    "#### Escribe una función que tome dos argumentos: una secuencia de proteínas y un amino ácido. \n",
    "#### Queremos que devuelva el porcentaje del amino ácido en la secuencia de proteínas. \n",
    "#### Una vez que tengas hecha tu función, emplea las siguientes aserciones para comprobar tu código."
   ]
  },
  {
   "cell_type": "code",
   "execution_count": 11,
   "metadata": {},
   "outputs": [
    {
     "name": "stdout",
     "output_type": "stream",
     "text": [
      "Aminoácido 1: 5.0\n",
      "Aminoácido 2: 10.0\n",
      "Aminoácido 3: 50.0\n",
      "Aminoácido 4: 0.0\n"
     ]
    }
   ],
   "source": [
    "#Defino mi secuencia de proteínas y los distintos aminoacidos que tengo que comprobar\n",
    "protein_sequence = \"MSRSLLLRFLLFLLLLPPLP\"\n",
    "amino_acid_1 = \"M\"\n",
    "amino_acid_2 = \"r\"\n",
    "amino_acid_3 = \"L\"\n",
    "amino_acid_4 = \"Y\"\n",
    "\n",
    "#Defino mi función y convierto la secuencia de proteínas y mi aminoácido a mayusculas para que no haga distinciones entre mayúsculas y minúsculas\n",
    "def my_function (protein_sequence, amino_acid):\n",
    "    protein_sequence = protein_sequence.upper()\n",
    "    amino_acid = amino_acid.upper()\n",
    "    \n",
    "    #Cuento el nº de veces que aparece el aa en la secuencia de proteinas\n",
    "    amino_acid_count = protein_sequence.count(amino_acid)\n",
    "    \n",
    "    #Calculo el porcentaje\n",
    "    total_amino_acids = len(protein_sequence)\n",
    "    percentage = (amino_acid_count / total_amino_acids) * 100\n",
    "    return percentage\n",
    "\n",
    "#Imprimo el porcentaje de cada uno de los aminoácidos que me dan en el assert para comprobar que mi función funciona\n",
    "print (\"Aminoácido 1:\", my_function (protein_sequence, amino_acid_1))\n",
    "print (\"Aminoácido 2:\", my_function (protein_sequence, amino_acid_2))\n",
    "print (\"Aminoácido 3:\", my_function (protein_sequence, amino_acid_3))\n",
    "print (\"Aminoácido 4:\", my_function (protein_sequence, amino_acid_4))"
   ]
  },
  {
   "cell_type": "code",
   "execution_count": 12,
   "metadata": {},
   "outputs": [],
   "source": [
    "assert my_function(\"MSRSLLLRFLLFLLLLPPLP\", \"M\") == 5\n",
    "assert my_function(\"MSRSLLLRFLLFLLLLPPLP\", \"r\") == 10\n",
    "assert my_function(\"msrslllrfllfllllpplp\", \"L\") == 50\n",
    "assert my_function(\"MSRSLLLRFLLFLLLLPPLP\", \"Y\") == 0"
   ]
  }
 ],
 "metadata": {
  "kernelspec": {
   "display_name": "Python 3 (ipykernel)",
   "language": "python",
   "name": "python3"
  },
  "language_info": {
   "codemirror_mode": {
    "name": "ipython",
    "version": 3
   },
   "file_extension": ".py",
   "mimetype": "text/x-python",
   "name": "python",
   "nbconvert_exporter": "python",
   "pygments_lexer": "ipython3",
   "version": "3.11.4"
  }
 },
 "nbformat": 4,
 "nbformat_minor": 4
}
